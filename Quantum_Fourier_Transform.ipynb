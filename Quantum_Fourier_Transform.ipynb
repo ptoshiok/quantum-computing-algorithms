{
 "cells": [
  {
   "cell_type": "code",
   "execution_count": 1,
   "id": "6ed77437",
   "metadata": {},
   "outputs": [],
   "source": [
    "from qiskit.extensions import *\n",
    "from qiskit import QuantumCircuit, ClassicalRegister, execute, Aer, IBMQ, transpile\n",
    "from qiskit import *\n",
    "from qiskit.compiler import transpile, assemble\n",
    "from qiskit.tools.jupyter import *\n",
    "from qiskit.visualization import *\n",
    "from ibm_quantum_widgets import *\n",
    "from qiskit.quantum_info import Operator\n",
    "from qiskit.providers.aer.library import save_statevector\n",
    "from qiskit_textbook.tools import *\n",
    "import numpy as np\n",
    "import random"
   ]
  },
  {
   "cell_type": "code",
   "execution_count": 3,
   "id": "138f5bfe",
   "metadata": {},
   "outputs": [
    {
     "name": "stdout",
     "output_type": "stream",
     "text": [
      "------------------------------------------\n",
      "circuito que computa transformada quantica de fourier\n"
     ]
    },
    {
     "data": {
      "image/png": "[encoded data removed]",
      "text/plain": [
       "<Figure size 781.499x184.212 with 1 Axes>"
      ]
     },
     "execution_count": 3,
     "metadata": {},
     "output_type": "execute_result"
    }
   ],
   "source": [
    "print(\"------------------------------------------\")\n",
    "print(\"circuito que computa transformada quantica de fourier\")\n",
    "n = 3 #números de qubits\n",
    "qr = QuantumRegister(n, 'x') #Quantum Register x\n",
    "qc = QuantumCircuit(qr)\n",
    "#Apticando Hadamard e CP (control phase gate) conforme especificado anteriormente\n",
    "for i in range(n-1,-1,-1):\n",
    "    qc.h(i)\n",
    "    for j in range(i-1,-1,-1):\n",
    "        qc.cp(np.pi/(2**(i-j)), i,j)\n",
    "    qc. barrier()\n",
    "for qubit in range(n//2):\n",
    "    qc.swap(qubit, n-qubit-1) #invertendo ordem dos qubits\n",
    "\n",
    "qc.draw('mpl', scale = 0.9) #Desenhando circuito"
   ]
  },
  {
   "cell_type": "code",
   "execution_count": null,
   "id": "0d2d051e",
   "metadata": {},
   "outputs": [],
   "source": []
  }
 ],
 "metadata": {
  "kernelspec": {
   "display_name": "Python 3 (ipykernel)",
   "language": "python",
   "name": "python3"
  },
  "language_info": {
   "codemirror_mode": {
    "name": "ipython",
    "version": 3
   },
   "file_extension": ".py",
   "mimetype": "text/x-python",
   "name": "python",
   "nbconvert_exporter": "python",
   "pygments_lexer": "ipython3",
   "version": "3.8.10"
  }
 },
 "nbformat": 4,
 "nbformat_minor": 5
}
