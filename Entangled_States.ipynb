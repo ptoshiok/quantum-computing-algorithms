{
 "cells": [
  {
   "cell_type": "code",
   "execution_count": 1,
   "id": "95c46b67",
   "metadata": {},
   "outputs": [],
   "source": [
    "import numpy as np\n",
    "from qiskit import *\n",
    "from qiskit import QuantumCircuit, transpile, Aer, IBMQ\n",
    "from qiskit.tools.jupyter import *\n",
    "from qiskit.visualization import *\n",
    "from ibm_quantum_widgets import *\n",
    "from qiskit_textbook.tools import array_to_latex"
   ]
  },
  {
   "cell_type": "code",
   "execution_count": 5,
   "id": "e299b0e1",
   "metadata": {},
   "outputs": [
    {
     "data": {
      "text/html": [
       "<pre style=\"word-wrap: normal;white-space: pre;background: #fff0;line-height: 1.1;font-family: &quot;Courier New&quot;,Courier,monospace\">     ┌───┐\n",
       "q_0: ┤ H ├\n",
       "     ├───┤\n",
       "q_1: ┤ H ├\n",
       "     └───┘</pre>"
      ],
      "text/plain": [
       "     ┌───┐\n",
       "q_0: ┤ H ├\n",
       "     ├───┤\n",
       "q_1: ┤ H ├\n",
       "     └───┘"
      ]
     },
     "metadata": {},
     "output_type": "display_data"
    },
    {
     "data": {
      "image/png": "[encoded data removed]",
      "text/plain": [
       "<Figure size 216x216 with 1 Axes>"
      ]
     },
     "metadata": {},
     "output_type": "display_data"
    },
    {
     "data": {
      "text/latex": [
       "$\\displaystyle \n",
       "\\vert \\psi\\rangle =\\begin{bmatrix}\n",
       "\\tfrac{1}{2} \\\\\n",
       "\\tfrac{1}{2} \\\\\n",
       "\\tfrac{1}{2} \\\\\n",
       "\\tfrac{1}{2}\n",
       "\\end{bmatrix}\n",
       "$"
      ],
      "text/plain": [
       "<IPython.core.display.Math object>"
      ]
     },
     "metadata": {},
     "output_type": "display_data"
    }
   ],
   "source": [
    "n = 2\n",
    "qc = QuantumCircuit(n)\n",
    "qc.h(0)\n",
    "qc.h(1)\n",
    "display(qc.draw())\n",
    "\n",
    "backend = Aer.get_backend('statevector_simulator')\n",
    "results = execute(qc,backend).result().get_counts()\n",
    "state = execute(qc,backend).result().get_statevector()\n",
    "\n",
    "#Gerando o histograma dos resultados\n",
    "display(plot_histogram(results, figsize = (3,3)))\n",
    "\n",
    "#Mostrando o valor de estado\n",
    "array_to_latex(state, pretext = '\\\\vert \\psi\\\\rangle =')"
   ]
  },
  {
   "cell_type": "code",
   "execution_count": 3,
   "id": "923732aa",
   "metadata": {},
   "outputs": [
    {
     "data": {
      "text/html": [
       "<pre style=\"word-wrap: normal;white-space: pre;background: #fff0;line-height: 1.1;font-family: &quot;Courier New&quot;,Courier,monospace\">     ┌───┐┌─┐   \n",
       "q_0: ┤ H ├┤M├───\n",
       "     ├───┤└╥┘┌─┐\n",
       "q_1: ┤ H ├─╫─┤M├\n",
       "     └───┘ ║ └╥┘\n",
       "c: 2/══════╩══╩═\n",
       "           0  1 </pre>"
      ],
      "text/plain": [
       "     ┌───┐┌─┐   \n",
       "q_0: ┤ H ├┤M├───\n",
       "     ├───┤└╥┘┌─┐\n",
       "q_1: ┤ H ├─╫─┤M├\n",
       "     └───┘ ║ └╥┘\n",
       "c: 2/══════╩══╩═\n",
       "           0  1 "
      ]
     },
     "metadata": {},
     "output_type": "display_data"
    }
   ],
   "source": [
    "n = 2 # numero de qubits\n",
    "c = 2 # numero de bits clássicos\n",
    "\n",
    "#iniciando o circuito com n qubits e c bits\n",
    "qc = QuantumCircuit(n, c)\n",
    "qc.h(0)\n",
    "qc.h(1)\n",
    "\n",
    "#medindo os qubits q0 e q1 e guardando o valor em c0 e c1\n",
    "qc.measure(range(n), range(c))\n",
    "display(qc.draw())"
   ]
  },
  {
   "cell_type": "code",
   "execution_count": 9,
   "id": "12c95b82",
   "metadata": {},
   "outputs": [],
   "source": [
    "shots = 100 #qtde de vezes q realizaremos o experimento\n",
    "plots = 1 # numero de plots\n",
    "backend = Aer.get_backend('qasm_simulator')"
   ]
  },
  {
   "cell_type": "code",
   "execution_count": 4,
   "id": "70dab3ce",
   "metadata": {},
   "outputs": [
    {
     "data": {
      "image/png": "[encoded data removed]",
      "text/plain": [
       "<Figure size 216x216 with 1 Axes>"
      ]
     },
     "metadata": {},
     "output_type": "display_data"
    },
    {
     "data": {
      "text/latex": [
       "$\\displaystyle \n",
       "\\vert \\psi \\rangle =\\begin{bmatrix}\n",
       "\\tfrac{1}{\\sqrt{2}} \\\\\n",
       "0 \\\\\n",
       "0 \\\\\n",
       "\\tfrac{1}{\\sqrt{2}}\n",
       "\\end{bmatrix}\n",
       "$"
      ],
      "text/plain": [
       "<IPython.core.display.Math object>"
      ]
     },
     "metadata": {},
     "output_type": "display_data"
    }
   ],
   "source": [
    "###Construindo estados emaranhados\n",
    "n = 2\n",
    "c = 2\n",
    "\n",
    "qc = QuantumCircuit(n)\n",
    "qc.h(0)\n",
    "qc.cx(0,1)\n",
    "qc.draw()\n",
    "\n",
    "backend = Aer.get_backend('statevector_simulator')\n",
    "results = execute(qc,backend).result().get_counts()\n",
    "display(plot_histogram(results, figsize = (3,3)))\n",
    "state = execute(qc,backend).result().get_statevector()\n",
    "\n",
    "array_to_latex(state, pretext=\"\\\\vert \\psi \\\\rangle =\")"
   ]
  },
  {
   "cell_type": "code",
   "execution_count": null,
   "id": "2b540b70",
   "metadata": {},
   "outputs": [],
   "source": []
  }
 ],
 "metadata": {
  "kernelspec": {
   "display_name": "Python 3 (ipykernel)",
   "language": "python",
   "name": "python3"
  },
  "language_info": {
   "codemirror_mode": {
    "name": "ipython",
    "version": 3
   },
   "file_extension": ".py",
   "mimetype": "text/x-python",
   "name": "python",
   "nbconvert_exporter": "python",
   "pygments_lexer": "ipython3",
   "version": "3.8.10"
  }
 },
 "nbformat": 4,
 "nbformat_minor": 5
}
