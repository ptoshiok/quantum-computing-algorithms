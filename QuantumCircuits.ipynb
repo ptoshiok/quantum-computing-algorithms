{
 "cells": [
  {
   "cell_type": "code",
   "execution_count": 1,
   "id": "38937df0",
   "metadata": {},
   "outputs": [],
   "source": [
    "import numpy as np\n",
    "from qiskit import QuantumCircuit, transpile, Aer, IBMQ, execute\n",
    "from qiskit.tools.jupyter import *\n",
    "from qiskit.visualization import *\n",
    "from ibm_quantum_widgets import *"
   ]
  },
  {
   "cell_type": "code",
   "execution_count": 4,
   "id": "2c1f3347",
   "metadata": {},
   "outputs": [
    {
     "data": {
      "text/plain": [
       "dict_values([1, 1, 1, 0, 1, 0, 0, 1, 1, 0])"
      ]
     },
     "execution_count": 4,
     "metadata": {},
     "output_type": "execute_result"
    }
   ],
   "source": [
    "n = 1\n",
    "def qrng(n,string):\n",
    "    res = {}\n",
    "    for i in range(string):\n",
    "        qc = QuantumCircuit(n,n)\n",
    "        qc.h(range(n))\n",
    "        qc.barrier()\n",
    "        qc.measure(range(n),range(n))\n",
    "        shots = 1\n",
    "        backend = Aer.get_backend('qasm_simulator')\n",
    "        result = execute(qc, backend, shots = shots).result().get_counts()\n",
    "        res[i] = int(list(result.keys())[0])\n",
    "    return res\n",
    "bins = qrng(1,10)\n",
    "bins.values()"
   ]
  },
  {
   "cell_type": "code",
   "execution_count": 7,
   "id": "5f17b035",
   "metadata": {},
   "outputs": [
    {
     "data": {
      "text/html": [
       "<pre style=\"word-wrap: normal;white-space: pre;background: #fff0;line-height: 1.1;font-family: &quot;Courier New&quot;,Courier,monospace\">     ┌───┐ ░ ┌─┐         \n",
       "q_0: ┤ H ├─░─┤M├─────────\n",
       "     ├───┤ ░ └╥┘┌─┐      \n",
       "q_1: ┤ H ├─░──╫─┤M├──────\n",
       "     ├───┤ ░  ║ └╥┘┌─┐   \n",
       "q_2: ┤ H ├─░──╫──╫─┤M├───\n",
       "     ├───┤ ░  ║  ║ └╥┘┌─┐\n",
       "q_3: ┤ H ├─░──╫──╫──╫─┤M├\n",
       "     └───┘ ░  ║  ║  ║ └╥┘\n",
       "c: 4/═════════╩══╩══╩══╩═\n",
       "              0  1  2  3 </pre>"
      ],
      "text/plain": [
       "     ┌───┐ ░ ┌─┐         \n",
       "q_0: ┤ H ├─░─┤M├─────────\n",
       "     ├───┤ ░ └╥┘┌─┐      \n",
       "q_1: ┤ H ├─░──╫─┤M├──────\n",
       "     ├───┤ ░  ║ └╥┘┌─┐   \n",
       "q_2: ┤ H ├─░──╫──╫─┤M├───\n",
       "     ├───┤ ░  ║  ║ └╥┘┌─┐\n",
       "q_3: ┤ H ├─░──╫──╫──╫─┤M├\n",
       "     └───┘ ░  ║  ║  ║ └╥┘\n",
       "c: 4/═════════╩══╩══╩══╩═\n",
       "              0  1  2  3 "
      ]
     },
     "metadata": {},
     "output_type": "display_data"
    }
   ],
   "source": [
    "n = 4\n",
    "qc = QuantumCircuit(n, n)\n",
    "qc.h(range(n))\n",
    "qc.barrier()\n",
    "qc.measure(range(n), range(n))\n",
    "display(qc.draw())"
   ]
  },
  {
   "cell_type": "code",
   "execution_count": 8,
   "id": "5190f3ba",
   "metadata": {},
   "outputs": [
    {
     "data": {
      "image/png": "[encoded data removed]",
      "text/plain": [
       "<Figure size 720x216 with 1 Axes>"
      ]
     },
     "metadata": {},
     "output_type": "display_data"
    }
   ],
   "source": [
    "backend = Aer.get_backend('statevector_simulator')\n",
    "result = execute(qc,backend).result().get_counts()\n",
    "display(plot_histogram(result,figsize=(10,3)))"
   ]
  },
  {
   "cell_type": "code",
   "execution_count": 9,
   "id": "44d99859",
   "metadata": {},
   "outputs": [
    {
     "data": {
      "text/plain": [
       "dict_values([14, 15, 15, 9, 9, 10, 11, 6, 3, 14, 15, 3, 2, 6, 15, 12, 7, 7, 13, 5, 13, 12, 0, 15, 1, 8, 12, 12, 6, 8, 11, 15, 9, 1, 10, 8, 6, 5, 14, 3, 5, 7, 4, 13, 7, 3, 3, 4, 10, 1, 14, 4, 3, 2, 6, 13, 6, 3, 6, 6, 12, 3, 14, 1, 8, 9, 14, 11, 11, 9, 11, 10, 9, 2, 11, 13, 11, 11, 0, 10, 13, 9, 5, 11, 8, 10, 5, 0, 4, 11, 1, 14, 3, 13, 10, 14, 8, 8, 13, 8])"
      ]
     },
     "execution_count": 9,
     "metadata": {},
     "output_type": "execute_result"
    }
   ],
   "source": [
    "def qrng_int(n,string):\n",
    "    res = {}\n",
    "    for i in range(string):\n",
    "        qc = QuantumCircuit(n,n) #n qubits e n classical bits\n",
    "        qc.h(range(n)) # todos os qubits em superposição\n",
    "        qc.barrier()\n",
    "        qc.measure(range(n),range(n)) #medindo e guargando o resultado nos\n",
    "                                    #bits clássicos\n",
    "        \n",
    "        shots = 1\n",
    "        backend = Aer.get_backend('qasm_simulator')\n",
    "        result = execute(qc, backend, shots = shots).result().get_counts()\n",
    "        res[i] = int(list(result.keys())[0],2)\n",
    "    return res\n",
    "n = 4\n",
    "size = 100\n",
    "ints = qrng_int(n,size)\n",
    "ints.values()"
   ]
  },
  {
   "cell_type": "code",
   "execution_count": null,
   "id": "1cc2d510",
   "metadata": {},
   "outputs": [],
   "source": []
  }
 ],
 "metadata": {
  "kernelspec": {
   "display_name": "Python 3 (ipykernel)",
   "language": "python",
   "name": "python3"
  },
  "language_info": {
   "codemirror_mode": {
    "name": "ipython",
    "version": 3
   },
   "file_extension": ".py",
   "mimetype": "text/x-python",
   "name": "python",
   "nbconvert_exporter": "python",
   "pygments_lexer": "ipython3",
   "version": "3.8.10"
  }
 },
 "nbformat": 4,
 "nbformat_minor": 5
}
