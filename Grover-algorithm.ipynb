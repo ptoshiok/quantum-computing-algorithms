{
 "cells": [
  {
   "cell_type": "code",
   "execution_count": 1,
   "id": "ab467c03",
   "metadata": {},
   "outputs": [],
   "source": [
    "from qiskit.extensions import *\n",
    "from qiskit import QuantumCircuit, ClassicalRegister, execute, Aer, IBMQ, transpile\n",
    "from qiskit import *\n",
    "from qiskit.compiler import transpile, assemble\n",
    "from qiskit.tools.jupyter import *\n",
    "from qiskit.visualization import *\n",
    "from ibm_quantum_widgets import *\n",
    "from qiskit.quantum_info import Operator\n",
    "from qiskit.providers.aer.library import save_statevector\n",
    "from qiskit_textbook.tools import *\n",
    "import numpy as np\n",
    "import random"
   ]
  },
  {
   "cell_type": "code",
   "execution_count": 2,
   "id": "e150815b",
   "metadata": {},
   "outputs": [],
   "source": [
    "n = 3 #numero de qubits\n",
    "\n",
    "N = 2**n #Tamanho da lista\n",
    "\n",
    "quant_ele = 1 #quantidade de elementos da lista que você quer buscar"
   ]
  },
  {
   "cell_type": "code",
   "execution_count": 4,
   "id": "aec5678e",
   "metadata": {},
   "outputs": [
    {
     "name": "stdout",
     "output_type": "stream",
     "text": [
      "Número de repetições Grover: ------- 2\n",
      "Elementos buscados na lista: ------- [4]------['100']\n"
     ]
    }
   ],
   "source": [
    "#Construindo a lista com todos os elementos\n",
    "el = [i for i in range(N)]\n",
    "\n",
    "#Sampleando um dos elementos da lista\n",
    "ints = random.sample(el, int(quant_ele))\n",
    "\n",
    "#construindo representação binária\n",
    "w = [format(i, '0'+str(n)+'b') for i in ints]\n",
    "\n",
    "#computando quantas vezes rodar grover\n",
    "times = int(np.pi/4 * np.sqrt(N/quant_ele))\n",
    "times = int(times)\n",
    "\n",
    "print(f\"Número de repetições Grover: ------- {times}\")\n",
    "print(f\"Elementos buscados na lista: ------- {ints}------{w}\")\n"
   ]
  },
  {
   "cell_type": "markdown",
   "id": "346f2700",
   "metadata": {},
   "source": [
    "# Definindo as funções de Grover"
   ]
  },
  {
   "cell_type": "markdown",
   "id": "dbdb1759",
   "metadata": {},
   "source": [
    "Gate 1: Oráculo"
   ]
  },
  {
   "cell_type": "code",
   "execution_count": 9,
   "id": "2c7752d7",
   "metadata": {},
   "outputs": [
    {
     "data": {
      "image/png": "[encoded data removed]",
      "text/plain": [
       "<Figure size 206.997x264.88 with 1 Axes>"
      ]
     },
     "execution_count": 9,
     "metadata": {},
     "output_type": "execute_result"
    }
   ],
   "source": [
    "def Uf(n, ints, name = '$U_w$'):\n",
    "    #Defining Oracle - put a negative phase on w[i]\n",
    "    qc = QuantumCircuit(n, name = name)\n",
    "    Uf = np.identity(N)\n",
    "    \n",
    "    for i in ints:\n",
    "        Uf[i][i] = -1\n",
    "    qc.unitary(Operator(Uf), range(n))\n",
    "    return qc\n",
    "\n",
    "qc = QuantumCircuit(n, n)\n",
    "qc.h(range(n))\n",
    "qc.append(Uf(n, ints),[i for i in range(n)])\n",
    "\n",
    "#qc.save_state(label = \"oracle\"+str(i))\n",
    "#qc.measure(range(n), range(n))\n",
    "\n",
    "qc.draw('mpl')"
   ]
  },
  {
   "cell_type": "code",
   "execution_count": 10,
   "id": "b2f703bf",
   "metadata": {},
   "outputs": [
    {
     "data": {
      "text/latex": [
       "$\\displaystyle \n",
       "\\vert \\psi\\rangle = \\begin{bmatrix}\n",
       "\\tfrac{1}{\\sqrt{8}} \\\\\n",
       "\\tfrac{1}{\\sqrt{8}} \\\\\n",
       "\\tfrac{1}{\\sqrt{8}} \\\\\n",
       "\\tfrac{1}{\\sqrt{8}} \\\\\n",
       "-\\tfrac{1}{\\sqrt{8}} \\\\\n",
       "\\tfrac{1}{\\sqrt{8}} \\\\\n",
       "\\tfrac{1}{\\sqrt{8}} \\\\\n",
       "\\tfrac{1}{\\sqrt{8}}\n",
       "\\end{bmatrix}\n",
       "$"
      ],
      "text/plain": [
       "<IPython.core.display.Math object>"
      ]
     },
     "metadata": {},
     "output_type": "display_data"
    }
   ],
   "source": [
    "backend = Aer.get_backend('statevector_simulator')\n",
    "\n",
    "state = execute(qc,backend, shots = 1).result().get_statevector()\n",
    "#counts - execute(qc, backend, shots = 10000).result().get_counts()\n",
    "#display(plot_histogram(counts))\n",
    "array_to_latex(state,pretext='\\\\vert \\psi\\\\rangle = ')"
   ]
  },
  {
   "cell_type": "markdown",
   "id": "9f47dabd",
   "metadata": {},
   "source": [
    "# Gate 2: Diffuser"
   ]
  },
  {
   "cell_type": "code",
   "execution_count": 11,
   "id": "cc4ad75e",
   "metadata": {},
   "outputs": [
    {
     "data": {
      "image/png": "[encoded data removed]",
      "text/plain": [
       "<Figure size 267.197x264.88 with 1 Axes>"
      ]
     },
     "execution_count": 11,
     "metadata": {},
     "output_type": "execute_result"
    }
   ],
   "source": [
    "def Us(n, name = 'Us'):\n",
    "    qc = QuantumCircuit(n, name='Us')\n",
    "    qc.h(range(n))\n",
    "    qc.append(Uf(n,[0]),range(n))\n",
    "    qc.h(range(n))\n",
    "    return qc\n",
    "\n",
    "qc = QuantumCircuit(n, n)\n",
    "qc.h(range(n))\n",
    "qc.append(Uf(n,ints),[i for i in range(n)])\n",
    "qc.append(Us(n,ints),[i for i in range(n)])\n",
    "qc.draw('mpl')"
   ]
  },
  {
   "cell_type": "code",
   "execution_count": 12,
   "id": "15b032e3",
   "metadata": {},
   "outputs": [
    {
     "data": {
      "text/latex": [
       "$\\displaystyle \n",
       "\\vert \\psi\\rangle = \\begin{bmatrix}\n",
       "-0.17678 \\\\\n",
       "-0.17678 \\\\\n",
       "-0.17678 \\\\\n",
       "-0.17678 \\\\\n",
       "-0.88388 \\\\\n",
       "-0.17678 \\\\\n",
       "-0.17678 \\\\\n",
       "-0.17678\n",
       "\\end{bmatrix}\n",
       "$"
      ],
      "text/plain": [
       "<IPython.core.display.Math object>"
      ]
     },
     "metadata": {},
     "output_type": "display_data"
    }
   ],
   "source": [
    "backend = Aer.get_backend('statevector_simulator')\n",
    "\n",
    "state = execute(qc,backend, shots = 1).result().get_statevector()\n",
    "array_to_latex(state, pretext='\\\\vert \\psi\\\\rangle = ')"
   ]
  },
  {
   "cell_type": "code",
   "execution_count": 14,
   "id": "a0a13f52",
   "metadata": {},
   "outputs": [
    {
     "data": {
      "image/png": "[encoded data removed]",
      "text/plain": [
       "<Figure size 387.597x264.88 with 1 Axes>"
      ]
     },
     "execution_count": 14,
     "metadata": {},
     "output_type": "execute_result"
    }
   ],
   "source": [
    "qc = QuantumCircuit(n,n)\n",
    "\n",
    "qc.h(range(n))\n",
    "qc.append(Uf(n, ints),[i for i in range(n)])\n",
    "qc.append(Us(n, ints),[i for i in range(n)])\n",
    "qc.append(Uf(n, ints),[i for i in range(n)])\n",
    "qc.append(Us(n, ints),[i for i in range(n)])\n",
    "          \n",
    "qc.draw('mpl')"
   ]
  },
  {
   "cell_type": "code",
   "execution_count": 15,
   "id": "70338b8c",
   "metadata": {},
   "outputs": [
    {
     "data": {
      "text/latex": [
       "$\\displaystyle \n",
       "\\vert \\psi\\rangle = \\begin{bmatrix}\n",
       "-0.08839 \\\\\n",
       "-0.08839 \\\\\n",
       "-0.08839 \\\\\n",
       "-0.08839 \\\\\n",
       "0.97227 \\\\\n",
       "-0.08839 \\\\\n",
       "-0.08839 \\\\\n",
       "-0.08839\n",
       "\\end{bmatrix}\n",
       "$"
      ],
      "text/plain": [
       "<IPython.core.display.Math object>"
      ]
     },
     "metadata": {},
     "output_type": "display_data"
    }
   ],
   "source": [
    "backend = Aer.get_backend('statevector_simulator')\n",
    "\n",
    "state = execute(qc,backend,shots=1).result().get_statevector()\n",
    "array_to_latex(state, pretext='\\\\vert \\psi\\\\rangle = ')"
   ]
  },
  {
   "cell_type": "code",
   "execution_count": 20,
   "id": "b8fe7b64",
   "metadata": {},
   "outputs": [],
   "source": [
    "def grover(n, ints, execution = None):\n",
    "    times = int(np.pi/4*np.sqrt(2**n/len(ints)))\n",
    "    times = int(times)\n",
    "    \n",
    "    if execution == 'svs':\n",
    "        qc= QuantumCircuit(n)\n",
    "        for i in range(n):\n",
    "            qc.h(i)\n",
    "        for i in range(times):\n",
    "            qc.append(Uf(n,ints),[i for i in range(n)])\n",
    "            qc.append(Us(n),[i for i in range(n)])\n",
    "    else:\n",
    "        qc = QuantumCircuit(n,n)\n",
    "        for i in range(n):\n",
    "            qc.h(i)\n",
    "            \n",
    "        for i in range(times):\n",
    "            qc.append(Uf(n,ints),[i for i in range(n)])\n",
    "            qc.append(Us(n),[i for i in range(n)])\n",
    "        for i in range(n):\n",
    "            qc.measure(i,i)\n",
    "    return qc"
   ]
  },
  {
   "cell_type": "code",
   "execution_count": 21,
   "id": "4b76fae9",
   "metadata": {},
   "outputs": [
    {
     "name": "stdout",
     "output_type": "stream",
     "text": [
      "Número de repetições Grover: --------2\n",
      "Elementos Buscados na Lista: --------[4]---['100']\n"
     ]
    },
    {
     "data": {
      "image/png": "[encoded data removed]",
      "text/plain": [
       "<Figure size 454.558x211.904 with 1 Axes>"
      ]
     },
     "metadata": {},
     "output_type": "display_data"
    },
    {
     "data": {
      "image/png": "[encoded data removed]",
      "text/plain": [
       "<Figure size 360x144 with 1 Axes>"
      ]
     },
     "execution_count": 21,
     "metadata": {},
     "output_type": "execute_result"
    }
   ],
   "source": [
    "n = 3\n",
    "ints = [4]\n",
    "\n",
    "w = [format(i, '0'+str(n)+'b') for i in ints]\n",
    "qc = grover(n, ints)\n",
    "\n",
    "print(f\"Número de repetições Grover: --------{times}\")\n",
    "print(f\"Elementos Buscados na Lista: --------{ints}---{w}\")\n",
    "\n",
    "shots = 10000\n",
    "\n",
    "\n",
    "display(qc.draw('mpl', scale=.8))\n",
    "backend = Aer.get_backend('qasm_simulator')\n",
    "counts = execute(qc, backend, shots = 10000).result().get_counts()\n",
    "plot_histogram(counts, figsize =(5,2))"
   ]
  },
  {
   "cell_type": "code",
   "execution_count": null,
   "id": "5fd2e505",
   "metadata": {},
   "outputs": [],
   "source": []
  }
 ],
 "metadata": {
  "kernelspec": {
   "display_name": "Python 3 (ipykernel)",
   "language": "python",
   "name": "python3"
  },
  "language_info": {
   "codemirror_mode": {
    "name": "ipython",
    "version": 3
   },
   "file_extension": ".py",
   "mimetype": "text/x-python",
   "name": "python",
   "nbconvert_exporter": "python",
   "pygments_lexer": "ipython3",
   "version": "3.8.10"
  }
 },
 "nbformat": 4,
 "nbformat_minor": 5
}
